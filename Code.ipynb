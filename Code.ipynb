{
 "cells": [
  {
   "cell_type": "markdown",
   "id": "a05cda2d",
   "metadata": {},
   "source": [
    "Munia Shaheen (20101050)\n",
    "\n",
    "Akib Zabed Ifti (20101113)\n",
    "\n",
    "Junaed Hossain (20101196)\n"
   ]
  },
  {
   "cell_type": "markdown",
   "id": "348ad478",
   "metadata": {},
   "source": [
    "# Online Sexism Detection"
   ]
  },
  {
   "cell_type": "raw",
   "id": "e0dfa8f5",
   "metadata": {},
   "source": [
    "import pandas as pd\n",
    "import numpy as np\n",
    "import re\n",
    "import nltk\n",
    "from nltk.corpus import stopwords\n",
    "from numpy import array\n",
    "from sklearn.feature_extraction.text import TfidfVectorizer\n",
    "from sklearn.feature_extraction.text import CountVectorizer\n",
    "from sklearn.linear_model import LogisticRegression\n",
    "from sklearn.naive_bayes import MultinomialNB\n",
    "from keras.preprocessing.text import one_hot, Tokenizer\n",
    "from keras_preprocessing.sequence import pad_sequences\n",
    "from keras.models import Sequential\n",
    "from keras.layers.core import Activation, Dropout, Dense\n",
    "from keras.layers import Flatten, GlobalMaxPooling1D, Embedding, Conv1D, LSTM\n",
    "from tensorflow.keras.layers import GRU, Bidirectional\n",
    "from sklearn.model_selection import train_test_split"
   ]
  },
  {
   "cell_type": "code",
   "execution_count": 2,
   "id": "1cb65012",
   "metadata": {},
   "outputs": [],
   "source": [
    "movie_reviews = pd.read_csv(\"train_all_tasks.csv\")"
   ]
  },
  {
   "cell_type": "code",
   "execution_count": 3,
   "id": "dec28c7f",
   "metadata": {},
   "outputs": [
    {
     "data": {
      "text/plain": [
       "(14000, 5)"
      ]
     },
     "execution_count": 3,
     "metadata": {},
     "output_type": "execute_result"
    }
   ],
   "source": [
    "movie_reviews.shape"
   ]
  },
  {
   "cell_type": "code",
   "execution_count": 4,
   "id": "2b35168c",
   "metadata": {},
   "outputs": [
    {
     "data": {
      "text/html": [
       "<div>\n",
       "<style scoped>\n",
       "    .dataframe tbody tr th:only-of-type {\n",
       "        vertical-align: middle;\n",
       "    }\n",
       "\n",
       "    .dataframe tbody tr th {\n",
       "        vertical-align: top;\n",
       "    }\n",
       "\n",
       "    .dataframe thead th {\n",
       "        text-align: right;\n",
       "    }\n",
       "</style>\n",
       "<table border=\"1\" class=\"dataframe\">\n",
       "  <thead>\n",
       "    <tr style=\"text-align: right;\">\n",
       "      <th></th>\n",
       "      <th>rewire_id</th>\n",
       "      <th>text</th>\n",
       "      <th>label_sexist</th>\n",
       "      <th>label_category</th>\n",
       "      <th>label_vector</th>\n",
       "    </tr>\n",
       "  </thead>\n",
       "  <tbody>\n",
       "    <tr>\n",
       "      <th>0</th>\n",
       "      <td>sexism2022_english-7358</td>\n",
       "      <td>Damn, this writing was pretty chaotic</td>\n",
       "      <td>not sexist</td>\n",
       "      <td>none</td>\n",
       "      <td>none</td>\n",
       "    </tr>\n",
       "    <tr>\n",
       "      <th>1</th>\n",
       "      <td>sexism2022_english-2367</td>\n",
       "      <td>Yeah, and apparently a bunch of misogynistic v...</td>\n",
       "      <td>not sexist</td>\n",
       "      <td>none</td>\n",
       "      <td>none</td>\n",
       "    </tr>\n",
       "    <tr>\n",
       "      <th>2</th>\n",
       "      <td>sexism2022_english-3073</td>\n",
       "      <td>How the FUCK is this woman still an MP!!!???</td>\n",
       "      <td>not sexist</td>\n",
       "      <td>none</td>\n",
       "      <td>none</td>\n",
       "    </tr>\n",
       "    <tr>\n",
       "      <th>3</th>\n",
       "      <td>sexism2022_english-14895</td>\n",
       "      <td>Understand. Know you're right. At same time I ...</td>\n",
       "      <td>not sexist</td>\n",
       "      <td>none</td>\n",
       "      <td>none</td>\n",
       "    </tr>\n",
       "    <tr>\n",
       "      <th>4</th>\n",
       "      <td>sexism2022_english-4118</td>\n",
       "      <td>Surprized they didn't stop and rape some women</td>\n",
       "      <td>not sexist</td>\n",
       "      <td>none</td>\n",
       "      <td>none</td>\n",
       "    </tr>\n",
       "    <tr>\n",
       "      <th>5</th>\n",
       "      <td>sexism2022_english-10376</td>\n",
       "      <td>yeah but in order to keep the benefit i have t...</td>\n",
       "      <td>not sexist</td>\n",
       "      <td>none</td>\n",
       "      <td>none</td>\n",
       "    </tr>\n",
       "    <tr>\n",
       "      <th>6</th>\n",
       "      <td>sexism2022_english-4569</td>\n",
       "      <td>Hahaha I just wish they would live their truth...</td>\n",
       "      <td>not sexist</td>\n",
       "      <td>none</td>\n",
       "      <td>none</td>\n",
       "    </tr>\n",
       "    <tr>\n",
       "      <th>7</th>\n",
       "      <td>sexism2022_english-91</td>\n",
       "      <td>head mod said she talked to him after he made ...</td>\n",
       "      <td>not sexist</td>\n",
       "      <td>none</td>\n",
       "      <td>none</td>\n",
       "    </tr>\n",
       "    <tr>\n",
       "      <th>8</th>\n",
       "      <td>sexism2022_english-10142</td>\n",
       "      <td>just the inside of your wallet: cash, bank car...</td>\n",
       "      <td>sexist</td>\n",
       "      <td>2. derogation</td>\n",
       "      <td>2.3 dehumanising attacks &amp; overt sexual object...</td>\n",
       "    </tr>\n",
       "    <tr>\n",
       "      <th>9</th>\n",
       "      <td>sexism2022_english-16316</td>\n",
       "      <td>We most definitely did. I didn’t go too much i...</td>\n",
       "      <td>not sexist</td>\n",
       "      <td>none</td>\n",
       "      <td>none</td>\n",
       "    </tr>\n",
       "  </tbody>\n",
       "</table>\n",
       "</div>"
      ],
      "text/plain": [
       "                  rewire_id  \\\n",
       "0   sexism2022_english-7358   \n",
       "1   sexism2022_english-2367   \n",
       "2   sexism2022_english-3073   \n",
       "3  sexism2022_english-14895   \n",
       "4   sexism2022_english-4118   \n",
       "5  sexism2022_english-10376   \n",
       "6   sexism2022_english-4569   \n",
       "7     sexism2022_english-91   \n",
       "8  sexism2022_english-10142   \n",
       "9  sexism2022_english-16316   \n",
       "\n",
       "                                                text label_sexist  \\\n",
       "0              Damn, this writing was pretty chaotic   not sexist   \n",
       "1  Yeah, and apparently a bunch of misogynistic v...   not sexist   \n",
       "2       How the FUCK is this woman still an MP!!!???   not sexist   \n",
       "3  Understand. Know you're right. At same time I ...   not sexist   \n",
       "4     Surprized they didn't stop and rape some women   not sexist   \n",
       "5  yeah but in order to keep the benefit i have t...   not sexist   \n",
       "6  Hahaha I just wish they would live their truth...   not sexist   \n",
       "7  head mod said she talked to him after he made ...   not sexist   \n",
       "8  just the inside of your wallet: cash, bank car...       sexist   \n",
       "9  We most definitely did. I didn’t go too much i...   not sexist   \n",
       "\n",
       "  label_category                                       label_vector  \n",
       "0           none                                               none  \n",
       "1           none                                               none  \n",
       "2           none                                               none  \n",
       "3           none                                               none  \n",
       "4           none                                               none  \n",
       "5           none                                               none  \n",
       "6           none                                               none  \n",
       "7           none                                               none  \n",
       "8  2. derogation  2.3 dehumanising attacks & overt sexual object...  \n",
       "9           none                                               none  "
      ]
     },
     "execution_count": 4,
     "metadata": {},
     "output_type": "execute_result"
    }
   ],
   "source": [
    "movie_reviews.head(10)"
   ]
  },
  {
   "cell_type": "code",
   "execution_count": 5,
   "id": "f8dc532a",
   "metadata": {},
   "outputs": [
    {
     "data": {
      "text/plain": [
       "False"
      ]
     },
     "execution_count": 5,
     "metadata": {},
     "output_type": "execute_result"
    }
   ],
   "source": [
    "movie_reviews.isnull().values.any()"
   ]
  },
  {
   "cell_type": "code",
   "execution_count": 6,
   "id": "19d7c196",
   "metadata": {},
   "outputs": [],
   "source": [
    "movie_reviews.drop(['rewire_id','label_category','label_vector'],axis=1,inplace=True)"
   ]
  },
  {
   "cell_type": "code",
   "execution_count": 7,
   "id": "08305d14",
   "metadata": {},
   "outputs": [
    {
     "data": {
      "text/html": [
       "<div>\n",
       "<style scoped>\n",
       "    .dataframe tbody tr th:only-of-type {\n",
       "        vertical-align: middle;\n",
       "    }\n",
       "\n",
       "    .dataframe tbody tr th {\n",
       "        vertical-align: top;\n",
       "    }\n",
       "\n",
       "    .dataframe thead th {\n",
       "        text-align: right;\n",
       "    }\n",
       "</style>\n",
       "<table border=\"1\" class=\"dataframe\">\n",
       "  <thead>\n",
       "    <tr style=\"text-align: right;\">\n",
       "      <th></th>\n",
       "      <th>text</th>\n",
       "      <th>label_sexist</th>\n",
       "    </tr>\n",
       "  </thead>\n",
       "  <tbody>\n",
       "    <tr>\n",
       "      <th>0</th>\n",
       "      <td>Damn, this writing was pretty chaotic</td>\n",
       "      <td>not sexist</td>\n",
       "    </tr>\n",
       "    <tr>\n",
       "      <th>1</th>\n",
       "      <td>Yeah, and apparently a bunch of misogynistic v...</td>\n",
       "      <td>not sexist</td>\n",
       "    </tr>\n",
       "    <tr>\n",
       "      <th>2</th>\n",
       "      <td>How the FUCK is this woman still an MP!!!???</td>\n",
       "      <td>not sexist</td>\n",
       "    </tr>\n",
       "    <tr>\n",
       "      <th>3</th>\n",
       "      <td>Understand. Know you're right. At same time I ...</td>\n",
       "      <td>not sexist</td>\n",
       "    </tr>\n",
       "    <tr>\n",
       "      <th>4</th>\n",
       "      <td>Surprized they didn't stop and rape some women</td>\n",
       "      <td>not sexist</td>\n",
       "    </tr>\n",
       "  </tbody>\n",
       "</table>\n",
       "</div>"
      ],
      "text/plain": [
       "                                                text label_sexist\n",
       "0              Damn, this writing was pretty chaotic   not sexist\n",
       "1  Yeah, and apparently a bunch of misogynistic v...   not sexist\n",
       "2       How the FUCK is this woman still an MP!!!???   not sexist\n",
       "3  Understand. Know you're right. At same time I ...   not sexist\n",
       "4     Surprized they didn't stop and rape some women   not sexist"
      ]
     },
     "execution_count": 7,
     "metadata": {},
     "output_type": "execute_result"
    }
   ],
   "source": [
    "movie_reviews.head(5)"
   ]
  },
  {
   "cell_type": "markdown",
   "id": "5b481b69",
   "metadata": {},
   "source": [
    "# Preprocess"
   ]
  },
  {
   "cell_type": "code",
   "execution_count": 8,
   "id": "606e1e60",
   "metadata": {},
   "outputs": [
    {
     "data": {
      "text/plain": [
       "'How the FUCK is this woman still an MP!!!???'"
      ]
     },
     "execution_count": 8,
     "metadata": {},
     "output_type": "execute_result"
    }
   ],
   "source": [
    "movie_reviews[\"text\"][2]"
   ]
  },
  {
   "cell_type": "code",
   "execution_count": 9,
   "id": "f64e5613",
   "metadata": {},
   "outputs": [],
   "source": [
    "TAG_RE = re.compile(r'<[^>]+>')\n",
    "\n",
    "def remove_tags(text):\n",
    "    '''Removes HTML tags: replaces anything between opening and closing <> with empty space'''\n",
    "\n",
    "    return TAG_RE.sub('', text)"
   ]
  },
  {
   "cell_type": "code",
   "execution_count": 10,
   "id": "653d363e",
   "metadata": {},
   "outputs": [
    {
     "name": "stderr",
     "output_type": "stream",
     "text": [
      "[nltk_data] Downloading package stopwords to C:\\Users\\Munia\n",
      "[nltk_data]     Shaheen\\AppData\\Roaming\\nltk_data...\n",
      "[nltk_data]   Package stopwords is already up-to-date!\n"
     ]
    },
    {
     "data": {
      "text/plain": [
       "True"
      ]
     },
     "execution_count": 10,
     "metadata": {},
     "output_type": "execute_result"
    }
   ],
   "source": [
    "import nltk\n",
    "nltk.download('stopwords')"
   ]
  },
  {
   "cell_type": "code",
   "execution_count": 11,
   "id": "9cb32a85",
   "metadata": {},
   "outputs": [],
   "source": [
    "def preprocess_text(sen):\n",
    "    '''Cleans text data up, leaving only 2 or more char long non-stepwords composed of A-Z & a-z only\n",
    "    in lowercase'''\n",
    "    \n",
    "    sentence = sen.lower()\n",
    "\n",
    "    # Remove html tags\n",
    "    sentence = remove_tags(sentence)\n",
    "\n",
    "    # Remove punctuations and numbers\n",
    "    sentence = re.sub('[^a-zA-Z]', ' ', sentence)\n",
    "\n",
    "    # Single character removal\n",
    "    sentence = re.sub(r\"\\s+[a-zA-Z]\\s+\", ' ', sentence)  # When we remove apostrophe from the word \"Mark's\", the apostrophe is replaced by an empty space. Hence, we are left with single character \"s\" that we are removing here.\n",
    "\n",
    "    # Remove multiple spaces\n",
    "    sentence = re.sub(r'\\s+', ' ', sentence)  # Next, we remove all the single characters and replace it by a space which creates multiple spaces in our text. Finally, we remove the multiple spaces from our text as well.\n",
    "\n",
    "    # Remove Stopwords\n",
    "    pattern = re.compile(r'\\b(' + r'|'.join(stopwords.words('english')) + r')\\b\\s*')\n",
    "    sentence = pattern.sub('', sentence)\n",
    "\n",
    "    return sentence"
   ]
  },
  {
   "cell_type": "code",
   "execution_count": 12,
   "id": "e2a54019",
   "metadata": {},
   "outputs": [],
   "source": [
    "X = []\n",
    "sentences = list(movie_reviews['text'])\n",
    "for sen in sentences:\n",
    "    X.append(preprocess_text(sen))"
   ]
  },
  {
   "cell_type": "code",
   "execution_count": 13,
   "id": "b72260b7",
   "metadata": {},
   "outputs": [
    {
     "data": {
      "text/plain": [
       "'fuck woman still mp '"
      ]
     },
     "execution_count": 13,
     "metadata": {},
     "output_type": "execute_result"
    }
   ],
   "source": [
    "X[2]"
   ]
  },
  {
   "cell_type": "code",
   "execution_count": 14,
   "id": "5c27d875",
   "metadata": {},
   "outputs": [],
   "source": [
    "y = movie_reviews['label_sexist']\n",
    "\n",
    "y = np.array(list(map(lambda x: 1 if x==\"not sexist\" else 0, y)))"
   ]
  },
  {
   "cell_type": "code",
   "execution_count": 15,
   "id": "b539e072",
   "metadata": {},
   "outputs": [
    {
     "data": {
      "text/plain": [
       "array([1, 1, 1, ..., 1, 1, 1])"
      ]
     },
     "execution_count": 15,
     "metadata": {},
     "output_type": "execute_result"
    }
   ],
   "source": [
    "y"
   ]
  },
  {
   "cell_type": "code",
   "execution_count": 16,
   "id": "c9db4a8b",
   "metadata": {},
   "outputs": [],
   "source": [
    "# new=pd.DataFrame(zip(X, y), columns=['text', 'label_sexist'])"
   ]
  },
  {
   "cell_type": "code",
   "execution_count": 17,
   "id": "bb5ea359",
   "metadata": {},
   "outputs": [],
   "source": [
    "# new.head(5)"
   ]
  },
  {
   "cell_type": "markdown",
   "id": "7975fa21",
   "metadata": {},
   "source": [
    "# Balancing"
   ]
  },
  {
   "cell_type": "code",
   "execution_count": 18,
   "id": "486a8071",
   "metadata": {},
   "outputs": [],
   "source": [
    "# import seaborn as sns\n",
    "# sns.countplot(x='label_sexist', data=new)"
   ]
  },
  {
   "cell_type": "code",
   "execution_count": 19,
   "id": "0b29f72a",
   "metadata": {},
   "outputs": [],
   "source": [
    "# new['label_sexist'].value_counts()\n",
    "# #0 = not sexist 1= sexist"
   ]
  },
  {
   "cell_type": "code",
   "execution_count": 20,
   "id": "76eb2c32",
   "metadata": {},
   "outputs": [],
   "source": [
    "# df_1 = new[new['label_sexist'] == 0].iloc[0: 3398, :]"
   ]
  },
  {
   "cell_type": "code",
   "execution_count": 21,
   "id": "783a410d",
   "metadata": {},
   "outputs": [],
   "source": [
    "# df_2 = new[new['label_sexist'] == 1].iloc[0: 3398, :]"
   ]
  },
  {
   "cell_type": "code",
   "execution_count": 22,
   "id": "c45b15e4",
   "metadata": {},
   "outputs": [],
   "source": [
    "# balanced = pd.concat([df_1,df_2])"
   ]
  },
  {
   "cell_type": "code",
   "execution_count": 23,
   "id": "2efdaa7c",
   "metadata": {},
   "outputs": [],
   "source": [
    "# balanced['label_sexist'].value_counts()"
   ]
  },
  {
   "cell_type": "code",
   "execution_count": 24,
   "id": "326d2412",
   "metadata": {},
   "outputs": [],
   "source": [
    "# X = balanced.drop('label_sexist',axis='columns')\n",
    "# y = balanced['label_sexist']"
   ]
  },
  {
   "cell_type": "code",
   "execution_count": 25,
   "id": "cd35c9eb",
   "metadata": {},
   "outputs": [],
   "source": [
    "X_train, X_test, y_train, y_test = train_test_split(X, y, test_size=0.20, random_state=42)"
   ]
  },
  {
   "cell_type": "code",
   "execution_count": 26,
   "id": "d8965405",
   "metadata": {},
   "outputs": [],
   "source": [
    "vectorizer = CountVectorizer()\n",
    "vectorizer.fit(X_train);"
   ]
  },
  {
   "cell_type": "code",
   "execution_count": 27,
   "id": "e838d0e2",
   "metadata": {},
   "outputs": [],
   "source": [
    "x_train = vectorizer.transform(X_train)\n",
    "x_test = vectorizer.transform(X_test)"
   ]
  },
  {
   "cell_type": "code",
   "execution_count": 28,
   "id": "e86d14fd",
   "metadata": {},
   "outputs": [],
   "source": [
    "from sklearn.neighbors import KNeighborsClassifier\n",
    "from sklearn.naive_bayes import BernoulliNB\n",
    "from sklearn.svm import LinearSVC\n",
    "from sklearn.ensemble import RandomForestClassifier"
   ]
  },
  {
   "cell_type": "code",
   "execution_count": 29,
   "id": "c63da827",
   "metadata": {},
   "outputs": [
    {
     "data": {
      "text/plain": [
       "LogisticRegression(max_iter=1000)"
      ]
     },
     "execution_count": 29,
     "metadata": {},
     "output_type": "execute_result"
    }
   ],
   "source": [
    "### Machine learning models\n",
    "## Logistic regression\n",
    "lr = LogisticRegression(max_iter=1000)\n",
    "lr.fit(x_train, y_train)"
   ]
  },
  {
   "cell_type": "code",
   "execution_count": 30,
   "id": "edbb8934",
   "metadata": {},
   "outputs": [
    {
     "data": {
      "text/plain": [
       "KNeighborsClassifier()"
      ]
     },
     "execution_count": 30,
     "metadata": {},
     "output_type": "execute_result"
    }
   ],
   "source": [
    "#k-nearest neighbours\n",
    "knn = KNeighborsClassifier(n_neighbors =5)\n",
    "knn.fit(x_train, y_train)"
   ]
  },
  {
   "cell_type": "code",
   "execution_count": 31,
   "id": "5ae3dcda",
   "metadata": {},
   "outputs": [
    {
     "data": {
      "text/plain": [
       "BernoulliNB()"
      ]
     },
     "execution_count": 31,
     "metadata": {},
     "output_type": "execute_result"
    }
   ],
   "source": [
    "##Naive Bayes I\n",
    "bnb = BernoulliNB()\n",
    "bnb.fit(x_train, y_train)"
   ]
  },
  {
   "cell_type": "code",
   "execution_count": 34,
   "id": "03403b8d",
   "metadata": {},
   "outputs": [
    {
     "data": {
      "text/plain": [
       "MultinomialNB()"
      ]
     },
     "execution_count": 34,
     "metadata": {},
     "output_type": "execute_result"
    }
   ],
   "source": [
    "## Multinomial naive bayes\n",
    "mnb = MultinomialNB ()\n",
    "mnb.fit(x_train, y_train)"
   ]
  },
  {
   "cell_type": "code",
   "execution_count": 35,
   "id": "6bfbfe4c",
   "metadata": {},
   "outputs": [
    {
     "data": {
      "text/plain": [
       "LinearSVC()"
      ]
     },
     "execution_count": 35,
     "metadata": {},
     "output_type": "execute_result"
    }
   ],
   "source": [
    "### Support vector machine\n",
    "svm_model = LinearSVC()\n",
    "svm_model.fit(x_train, y_train)"
   ]
  },
  {
   "cell_type": "code",
   "execution_count": 36,
   "id": "068621a4",
   "metadata": {},
   "outputs": [
    {
     "data": {
      "text/plain": [
       "RandomForestClassifier(random_state=50)"
      ]
     },
     "execution_count": 36,
     "metadata": {},
     "output_type": "execute_result"
    }
   ],
   "source": [
    "### Random Forest\n",
    "randomforest = RandomForestClassifier(n_estimators=100, random_state=50)\n",
    "randomforest.fit(x_train, y_train)"
   ]
  },
  {
   "cell_type": "code",
   "execution_count": 37,
   "id": "cc78dc98",
   "metadata": {},
   "outputs": [
    {
     "data": {
      "text/html": [
       "<div>\n",
       "<style scoped>\n",
       "    .dataframe tbody tr th:only-of-type {\n",
       "        vertical-align: middle;\n",
       "    }\n",
       "\n",
       "    .dataframe tbody tr th {\n",
       "        vertical-align: top;\n",
       "    }\n",
       "\n",
       "    .dataframe thead th {\n",
       "        text-align: right;\n",
       "    }\n",
       "</style>\n",
       "<table border=\"1\" class=\"dataframe\">\n",
       "  <thead>\n",
       "    <tr style=\"text-align: right;\">\n",
       "      <th></th>\n",
       "      <th>F1 Score</th>\n",
       "    </tr>\n",
       "  </thead>\n",
       "  <tbody>\n",
       "    <tr>\n",
       "      <th>Log Regression</th>\n",
       "      <td>0.881851</td>\n",
       "    </tr>\n",
       "    <tr>\n",
       "      <th>KNN</th>\n",
       "      <td>0.855666</td>\n",
       "    </tr>\n",
       "    <tr>\n",
       "      <th>BernoulliNB</th>\n",
       "      <td>0.867957</td>\n",
       "    </tr>\n",
       "    <tr>\n",
       "      <th>MultinomialNB</th>\n",
       "      <td>0.877100</td>\n",
       "    </tr>\n",
       "    <tr>\n",
       "      <th>SVM</th>\n",
       "      <td>0.862061</td>\n",
       "    </tr>\n",
       "    <tr>\n",
       "      <th>Random Forest</th>\n",
       "      <td>0.893543</td>\n",
       "    </tr>\n",
       "  </tbody>\n",
       "</table>\n",
       "</div>"
      ],
      "text/plain": [
       "                F1 Score\n",
       "Log Regression  0.881851\n",
       "KNN             0.855666\n",
       "BernoulliNB     0.867957\n",
       "MultinomialNB   0.877100\n",
       "SVM             0.862061\n",
       "Random Forest   0.893543"
      ]
     },
     "execution_count": 37,
     "metadata": {},
     "output_type": "execute_result"
    }
   ],
   "source": [
    "from sklearn.metrics import f1_score\n",
    "f1_score_data = {'F1 Score': [f1_score(lr.predict(x_test), y_test),\n",
    "                              f1_score(knn.predict(x_test), y_test),\n",
    "                              f1_score(bnb.predict(x_test), y_test),\n",
    "                              f1_score(mnb.predict(x_test), y_test),\n",
    "                              f1_score(svm_model.predict(x_test), y_test),\n",
    "                              f1_score(randomforest.predict(x_test), y_test)]}\n",
    "##Saving fi score results into a dataframe\n",
    "df_f1=pd.DataFrame(f1_score_data, index=['Log Regression', 'KNN', 'BernoulliNB', 'MultinomialNB', 'SVM', 'Random Forest'])\n",
    "df_f1\n"
   ]
  },
  {
   "cell_type": "markdown",
   "id": "c96ad7dd",
   "metadata": {},
   "source": [
    "# For DL part"
   ]
  },
  {
   "cell_type": "code",
   "execution_count": 38,
   "id": "cdfb859c",
   "metadata": {},
   "outputs": [],
   "source": [
    "word_tokenizer = Tokenizer()\n",
    "word_tokenizer.fit_on_texts(X_train)\n",
    "\n",
    "X_train = word_tokenizer.texts_to_sequences(X_train)\n",
    "X_test = word_tokenizer.texts_to_sequences(X_test)"
   ]
  },
  {
   "cell_type": "code",
   "execution_count": 39,
   "id": "9cd1bb26",
   "metadata": {},
   "outputs": [
    {
     "data": {
      "text/plain": [
       "18178"
      ]
     },
     "execution_count": 39,
     "metadata": {},
     "output_type": "execute_result"
    }
   ],
   "source": [
    "vocab_length = len(word_tokenizer.word_index) + 1\n",
    "\n",
    "vocab_length"
   ]
  },
  {
   "cell_type": "code",
   "execution_count": 40,
   "id": "d8e88663",
   "metadata": {},
   "outputs": [],
   "source": [
    "maxlen = 100\n",
    "\n",
    "X_train = pad_sequences(X_train, padding='post', maxlen=maxlen)\n",
    "X_test = pad_sequences(X_test, padding='post', maxlen=maxlen)"
   ]
  },
  {
   "cell_type": "markdown",
   "id": "13982f12",
   "metadata": {},
   "source": [
    "# Need to download the GloVe file: https://drive.google.com/file/d/16_K-L-m9P3w4AdZAFO0mu7GtJK-xmvGI/view?usp=share_link"
   ]
  },
  {
   "cell_type": "code",
   "execution_count": 41,
   "id": "bc3fda90",
   "metadata": {},
   "outputs": [],
   "source": [
    "from numpy import asarray\n",
    "from numpy import zeros\n",
    "\n",
    "embeddings_dictionary = dict()\n",
    "glove_file = open('glove.6B.100d.txt', encoding=\"utf8\")\n",
    "\n",
    "for line in glove_file:\n",
    "    records = line.split()\n",
    "    word = records[0]\n",
    "    vector_dimensions = asarray(records[1:], dtype='float32')\n",
    "    embeddings_dictionary [word] = vector_dimensions\n",
    "glove_file.close()"
   ]
  },
  {
   "cell_type": "code",
   "execution_count": 42,
   "id": "0055ea97",
   "metadata": {},
   "outputs": [],
   "source": [
    "embedding_matrix = zeros((vocab_length, 100))\n",
    "for word, index in word_tokenizer.word_index.items():\n",
    "    embedding_vector = embeddings_dictionary.get(word)\n",
    "    if embedding_vector is not None:\n",
    "        embedding_matrix[index] = embedding_vector"
   ]
  },
  {
   "cell_type": "code",
   "execution_count": 43,
   "id": "fda9f256",
   "metadata": {},
   "outputs": [
    {
     "data": {
      "text/plain": [
       "(18178, 100)"
      ]
     },
     "execution_count": 43,
     "metadata": {},
     "output_type": "execute_result"
    }
   ],
   "source": [
    "embedding_matrix.shape"
   ]
  },
  {
   "cell_type": "code",
   "execution_count": 44,
   "id": "0a6f11ef",
   "metadata": {},
   "outputs": [],
   "source": [
    "# Neural Network architecture\n",
    "snn_model = Sequential()\n",
    "embedding_layer = Embedding(vocab_length, 100, weights=[embedding_matrix], input_length=maxlen , trainable=False)\n",
    "\n",
    "snn_model.add(embedding_layer)\n",
    "snn_model.add(LSTM(64, dropout=0.2, recurrent_dropout=0.2))\n",
    "snn_model.add(Dense(1, activation='sigmoid'))"
   ]
  },
  {
   "cell_type": "code",
   "execution_count": 45,
   "id": "391ae609",
   "metadata": {},
   "outputs": [
    {
     "name": "stdout",
     "output_type": "stream",
     "text": [
      "Model: \"sequential\"\n",
      "_________________________________________________________________\n",
      " Layer (type)                Output Shape              Param #   \n",
      "=================================================================\n",
      " embedding (Embedding)       (None, 100, 100)          1817800   \n",
      "                                                                 \n",
      " lstm (LSTM)                 (None, 64)                42240     \n",
      "                                                                 \n",
      " dense (Dense)               (None, 1)                 65        \n",
      "                                                                 \n",
      "=================================================================\n",
      "Total params: 1,860,105\n",
      "Trainable params: 42,305\n",
      "Non-trainable params: 1,817,800\n",
      "_________________________________________________________________\n",
      "None\n"
     ]
    }
   ],
   "source": [
    "# Model compiling\n",
    "\n",
    "snn_model.compile(optimizer='adam', loss='binary_crossentropy', metrics=['acc'])\n",
    "\n",
    "print(snn_model.summary())"
   ]
  },
  {
   "cell_type": "code",
   "execution_count": 46,
   "id": "94e7239f",
   "metadata": {},
   "outputs": [
    {
     "name": "stdout",
     "output_type": "stream",
     "text": [
      "Epoch 1/50\n",
      "70/70 [==============================] - 27s 330ms/step - loss: 0.5755 - acc: 0.7545 - val_loss: 0.5602 - val_acc: 0.7496\n",
      "Epoch 2/50\n",
      "70/70 [==============================] - 22s 308ms/step - loss: 0.5468 - acc: 0.7619 - val_loss: 0.5577 - val_acc: 0.7496\n",
      "Epoch 3/50\n",
      "70/70 [==============================] - 21s 306ms/step - loss: 0.5192 - acc: 0.7576 - val_loss: 0.5197 - val_acc: 0.7496\n",
      "Epoch 4/50\n",
      "70/70 [==============================] - 21s 297ms/step - loss: 0.4952 - acc: 0.7626 - val_loss: 0.4923 - val_acc: 0.7683\n",
      "Epoch 5/50\n",
      "70/70 [==============================] - 22s 318ms/step - loss: 0.4819 - acc: 0.7735 - val_loss: 0.5294 - val_acc: 0.7531\n",
      "Epoch 6/50\n",
      "70/70 [==============================] - 21s 299ms/step - loss: 0.4774 - acc: 0.7708 - val_loss: 0.4859 - val_acc: 0.7522\n",
      "Epoch 7/50\n",
      "70/70 [==============================] - 23s 323ms/step - loss: 0.4575 - acc: 0.7907 - val_loss: 0.4672 - val_acc: 0.8004\n",
      "Epoch 8/50\n",
      "70/70 [==============================] - 22s 316ms/step - loss: 0.4545 - acc: 0.7911 - val_loss: 0.4660 - val_acc: 0.7830\n",
      "Epoch 9/50\n",
      "70/70 [==============================] - 23s 323ms/step - loss: 0.4406 - acc: 0.8086 - val_loss: 0.4369 - val_acc: 0.8192\n",
      "Epoch 10/50\n",
      "70/70 [==============================] - 23s 336ms/step - loss: 0.4249 - acc: 0.8153 - val_loss: 0.4294 - val_acc: 0.8103\n",
      "Epoch 11/50\n",
      "70/70 [==============================] - 22s 320ms/step - loss: 0.4262 - acc: 0.8158 - val_loss: 0.4574 - val_acc: 0.8156\n",
      "Epoch 12/50\n",
      "70/70 [==============================] - 18s 261ms/step - loss: 0.4212 - acc: 0.8171 - val_loss: 0.4338 - val_acc: 0.8129\n",
      "Epoch 13/50\n",
      "70/70 [==============================] - 18s 258ms/step - loss: 0.4154 - acc: 0.8202 - val_loss: 0.4234 - val_acc: 0.8085\n",
      "Epoch 14/50\n",
      "70/70 [==============================] - 18s 262ms/step - loss: 0.4199 - acc: 0.8095 - val_loss: 0.4302 - val_acc: 0.8031\n",
      "Epoch 15/50\n",
      "70/70 [==============================] - 17s 241ms/step - loss: 0.4066 - acc: 0.8163 - val_loss: 0.4246 - val_acc: 0.8161\n",
      "Epoch 16/50\n",
      "70/70 [==============================] - 17s 242ms/step - loss: 0.4121 - acc: 0.8220 - val_loss: 0.4372 - val_acc: 0.8219\n",
      "Epoch 17/50\n",
      "70/70 [==============================] - 18s 258ms/step - loss: 0.4008 - acc: 0.8249 - val_loss: 0.4267 - val_acc: 0.8045\n",
      "Epoch 18/50\n",
      "70/70 [==============================] - 18s 261ms/step - loss: 0.4326 - acc: 0.8044 - val_loss: 0.4899 - val_acc: 0.7496\n",
      "Epoch 19/50\n",
      "70/70 [==============================] - 18s 264ms/step - loss: 0.4408 - acc: 0.7806 - val_loss: 0.4592 - val_acc: 0.8045\n",
      "Epoch 20/50\n",
      "70/70 [==============================] - 18s 263ms/step - loss: 0.4061 - acc: 0.8202 - val_loss: 0.4549 - val_acc: 0.8214\n",
      "Epoch 21/50\n",
      "70/70 [==============================] - 18s 263ms/step - loss: 0.3906 - acc: 0.8345 - val_loss: 0.4280 - val_acc: 0.8237\n",
      "Epoch 22/50\n",
      "70/70 [==============================] - 19s 266ms/step - loss: 0.3805 - acc: 0.8362 - val_loss: 0.4179 - val_acc: 0.8138\n",
      "Epoch 23/50\n",
      "70/70 [==============================] - 19s 265ms/step - loss: 0.3727 - acc: 0.8368 - val_loss: 0.4210 - val_acc: 0.8188\n",
      "Epoch 24/50\n",
      "70/70 [==============================] - 18s 263ms/step - loss: 0.3762 - acc: 0.8315 - val_loss: 0.4696 - val_acc: 0.7987\n",
      "Epoch 25/50\n",
      "70/70 [==============================] - 19s 268ms/step - loss: 0.3755 - acc: 0.8339 - val_loss: 0.4580 - val_acc: 0.8219\n",
      "Epoch 26/50\n",
      "70/70 [==============================] - 18s 263ms/step - loss: 0.3758 - acc: 0.8325 - val_loss: 0.4262 - val_acc: 0.8125\n",
      "Epoch 27/50\n",
      "70/70 [==============================] - 19s 266ms/step - loss: 0.4619 - acc: 0.7992 - val_loss: 0.5076 - val_acc: 0.7496\n",
      "Epoch 28/50\n",
      "70/70 [==============================] - 19s 270ms/step - loss: 0.4603 - acc: 0.7994 - val_loss: 0.4605 - val_acc: 0.8098\n",
      "Epoch 29/50\n",
      "70/70 [==============================] - 19s 265ms/step - loss: 0.4433 - acc: 0.7787 - val_loss: 0.5071 - val_acc: 0.6777\n",
      "Epoch 30/50\n",
      "70/70 [==============================] - 19s 266ms/step - loss: 0.4320 - acc: 0.7849 - val_loss: 0.4579 - val_acc: 0.7991\n",
      "Epoch 31/50\n",
      "70/70 [==============================] - 19s 267ms/step - loss: 0.4114 - acc: 0.8188 - val_loss: 0.4612 - val_acc: 0.7933\n",
      "Epoch 32/50\n",
      "70/70 [==============================] - 21s 294ms/step - loss: 0.3942 - acc: 0.8285 - val_loss: 0.4592 - val_acc: 0.8000\n",
      "Epoch 33/50\n",
      "70/70 [==============================] - 20s 289ms/step - loss: 0.4110 - acc: 0.8194 - val_loss: 0.4553 - val_acc: 0.8183\n",
      "Epoch 34/50\n",
      "70/70 [==============================] - 19s 269ms/step - loss: 0.3946 - acc: 0.8290 - val_loss: 0.4397 - val_acc: 0.8174\n",
      "Epoch 35/50\n",
      "70/70 [==============================] - 19s 270ms/step - loss: 0.3984 - acc: 0.8251 - val_loss: 0.4632 - val_acc: 0.7915\n",
      "Epoch 36/50\n",
      "70/70 [==============================] - 19s 278ms/step - loss: 0.4004 - acc: 0.8231 - val_loss: 0.4423 - val_acc: 0.8089\n",
      "Epoch 37/50\n",
      "70/70 [==============================] - 20s 284ms/step - loss: 0.3789 - acc: 0.8365 - val_loss: 0.4625 - val_acc: 0.8045\n",
      "Epoch 38/50\n",
      "70/70 [==============================] - 20s 284ms/step - loss: 0.3875 - acc: 0.8244 - val_loss: 0.4347 - val_acc: 0.8170\n",
      "Epoch 39/50\n",
      "70/70 [==============================] - 21s 299ms/step - loss: 0.3802 - acc: 0.8335 - val_loss: 0.4535 - val_acc: 0.8210\n",
      "Epoch 40/50\n",
      "70/70 [==============================] - 21s 297ms/step - loss: 0.4008 - acc: 0.8124 - val_loss: 0.4251 - val_acc: 0.8254\n",
      "Epoch 41/50\n",
      "70/70 [==============================] - 20s 286ms/step - loss: 0.3593 - acc: 0.8436 - val_loss: 0.4310 - val_acc: 0.8076\n",
      "Epoch 42/50\n",
      "70/70 [==============================] - 20s 280ms/step - loss: 0.3605 - acc: 0.8473 - val_loss: 0.4403 - val_acc: 0.8246\n",
      "Epoch 43/50\n",
      "70/70 [==============================] - 20s 290ms/step - loss: 0.4415 - acc: 0.8029 - val_loss: 0.4450 - val_acc: 0.8009\n",
      "Epoch 44/50\n",
      "70/70 [==============================] - 19s 273ms/step - loss: 0.3742 - acc: 0.8420 - val_loss: 0.4307 - val_acc: 0.8134\n",
      "Epoch 45/50\n",
      "70/70 [==============================] - 20s 291ms/step - loss: 0.3587 - acc: 0.8420 - val_loss: 0.4428 - val_acc: 0.8112\n",
      "Epoch 46/50\n",
      "70/70 [==============================] - 21s 299ms/step - loss: 0.3674 - acc: 0.8387 - val_loss: 0.4438 - val_acc: 0.8192\n",
      "Epoch 47/50\n",
      "70/70 [==============================] - 19s 277ms/step - loss: 0.3424 - acc: 0.8538 - val_loss: 0.4460 - val_acc: 0.8161\n",
      "Epoch 48/50\n",
      "70/70 [==============================] - 20s 283ms/step - loss: 0.3421 - acc: 0.8556 - val_loss: 0.4161 - val_acc: 0.8241\n",
      "Epoch 49/50\n",
      "70/70 [==============================] - 20s 280ms/step - loss: 0.3337 - acc: 0.8569 - val_loss: 0.4337 - val_acc: 0.8335\n",
      "Epoch 50/50\n",
      "70/70 [==============================] - 21s 297ms/step - loss: 0.3321 - acc: 0.8555 - val_loss: 0.4269 - val_acc: 0.8232\n"
     ]
    }
   ],
   "source": [
    "# Model training\n",
    "\n",
    "snn_model_history = snn_model.fit(X_train, y_train, batch_size=128, epochs=50, verbose=1, validation_split=0.2)"
   ]
  },
  {
   "cell_type": "code",
   "execution_count": 47,
   "id": "e9dfff1b",
   "metadata": {},
   "outputs": [
    {
     "name": "stdout",
     "output_type": "stream",
     "text": [
      "88/88 [==============================] - 2s 14ms/step\n"
     ]
    },
    {
     "data": {
      "text/plain": [
       "0.8852011820868378"
      ]
     },
     "execution_count": 47,
     "metadata": {},
     "output_type": "execute_result"
    }
   ],
   "source": [
    "predictions = (snn_model.predict(X_test) > 0.5).astype(\"int32\")\n",
    "lstmf1=f1_score(y_test,predictions)\n",
    "lstmf1"
   ]
  },
  {
   "cell_type": "code",
   "execution_count": 48,
   "id": "92611e6d",
   "metadata": {},
   "outputs": [
    {
     "data": {
      "text/plain": [
       "Text(0.5, 1.0, 'Accuracy')"
      ]
     },
     "execution_count": 48,
     "metadata": {},
     "output_type": "execute_result"
    },
    {
     "data": {
      "image/png": "[encoded data removed]",
      "text/plain": [
       "<Figure size 1080x504 with 1 Axes>"
      ]
     },
     "metadata": {
      "needs_background": "light"
     },
     "output_type": "display_data"
    }
   ],
   "source": [
    "import matplotlib.pyplot as plt\n",
    "plt.figure(figsize=(15, 7))\n",
    "plt.plot(range(50), snn_model_history.history['acc'])\n",
    "plt.plot(range(50), snn_model_history.history['val_acc'])\n",
    "plt.legend(['training_acc', 'validation_acc'])\n",
    "plt.title('Accuracy')"
   ]
  },
  {
   "cell_type": "code",
   "execution_count": 49,
   "id": "a54dfbc5",
   "metadata": {},
   "outputs": [
    {
     "name": "stdout",
     "output_type": "stream",
     "text": [
      "Model: \"sequential_1\"\n",
      "_________________________________________________________________\n",
      " Layer (type)                Output Shape              Param #   \n",
      "=================================================================\n",
      " embedding_1 (Embedding)     (None, None, 100)         1817800   \n",
      "                                                                 \n",
      " gru (GRU)                   (None, 128)               88320     \n",
      "                                                                 \n",
      " dropout (Dropout)           (None, 128)               0         \n",
      "                                                                 \n",
      " dense_1 (Dense)             (None, 1)                 129       \n",
      "                                                                 \n",
      "=================================================================\n",
      "Total params: 1,906,249\n",
      "Trainable params: 88,449\n",
      "Non-trainable params: 1,817,800\n",
      "_________________________________________________________________\n",
      "None\n"
     ]
    }
   ],
   "source": [
    "emb_dim = embedding_matrix.shape[1]\n",
    "gru_model = Sequential()\n",
    "gru_model.add(Embedding(vocab_length, emb_dim, trainable = False, weights=[embedding_matrix]))\n",
    "# embedding_layer = Embedding(vocab_length, 100, weights=[embedding_matrix], input_length=maxlen , trainable=False)\n",
    "gru_model.add(GRU(128, return_sequences=False))\n",
    "gru_model.add(Dropout(0.5))\n",
    "gru_model.add(Dense(1, activation = 'sigmoid'))\n",
    "gru_model.compile(loss='binary_crossentropy', optimizer='adam', metrics=['accuracy'])\n",
    "print(gru_model.summary())"
   ]
  },
  {
   "cell_type": "code",
   "execution_count": 51,
   "id": "c97b3ee4",
   "metadata": {},
   "outputs": [
    {
     "name": "stdout",
     "output_type": "stream",
     "text": [
      "Epoch 1/50\n",
      "70/70 [==============================] - 9s 131ms/step - loss: 0.5513 - accuracy: 0.7619 - val_loss: 0.5628 - val_accuracy: 0.7496\n",
      "Epoch 2/50\n",
      "70/70 [==============================] - 9s 127ms/step - loss: 0.5512 - accuracy: 0.7619 - val_loss: 0.5632 - val_accuracy: 0.7496\n",
      "Epoch 3/50\n",
      "70/70 [==============================] - 9s 135ms/step - loss: 0.5504 - accuracy: 0.7619 - val_loss: 0.5631 - val_accuracy: 0.7496\n",
      "Epoch 4/50\n",
      "70/70 [==============================] - 9s 135ms/step - loss: 0.5511 - accuracy: 0.7619 - val_loss: 0.5629 - val_accuracy: 0.7496\n",
      "Epoch 5/50\n",
      "70/70 [==============================] - 9s 129ms/step - loss: 0.5505 - accuracy: 0.7619 - val_loss: 0.5649 - val_accuracy: 0.7496\n",
      "Epoch 6/50\n",
      "70/70 [==============================] - 9s 124ms/step - loss: 0.5511 - accuracy: 0.7619 - val_loss: 0.5631 - val_accuracy: 0.7496\n",
      "Epoch 7/50\n",
      "70/70 [==============================] - 9s 129ms/step - loss: 0.5517 - accuracy: 0.7619 - val_loss: 0.5645 - val_accuracy: 0.7496\n",
      "Epoch 8/50\n",
      "70/70 [==============================] - 9s 131ms/step - loss: 0.5510 - accuracy: 0.7619 - val_loss: 0.5631 - val_accuracy: 0.7496\n",
      "Epoch 9/50\n",
      "70/70 [==============================] - 9s 132ms/step - loss: 0.5513 - accuracy: 0.7619 - val_loss: 0.5628 - val_accuracy: 0.7496\n",
      "Epoch 10/50\n",
      "70/70 [==============================] - 9s 129ms/step - loss: 0.5507 - accuracy: 0.7619 - val_loss: 0.5633 - val_accuracy: 0.7496\n",
      "Epoch 11/50\n",
      "70/70 [==============================] - 9s 127ms/step - loss: 0.5492 - accuracy: 0.7619 - val_loss: 0.5628 - val_accuracy: 0.7496\n",
      "Epoch 12/50\n",
      "70/70 [==============================] - 10s 143ms/step - loss: 0.5504 - accuracy: 0.7619 - val_loss: 0.5631 - val_accuracy: 0.7496\n",
      "Epoch 13/50\n",
      "70/70 [==============================] - 9s 134ms/step - loss: 0.5508 - accuracy: 0.7619 - val_loss: 0.5635 - val_accuracy: 0.7496\n",
      "Epoch 14/50\n",
      "70/70 [==============================] - 9s 129ms/step - loss: 0.5504 - accuracy: 0.7619 - val_loss: 0.5628 - val_accuracy: 0.7496\n",
      "Epoch 15/50\n",
      "70/70 [==============================] - 10s 141ms/step - loss: 0.5502 - accuracy: 0.7619 - val_loss: 0.5643 - val_accuracy: 0.7496\n",
      "Epoch 16/50\n",
      "70/70 [==============================] - 9s 130ms/step - loss: 0.5508 - accuracy: 0.7619 - val_loss: 0.5629 - val_accuracy: 0.7496\n",
      "Epoch 17/50\n",
      "70/70 [==============================] - 9s 122ms/step - loss: 0.5504 - accuracy: 0.7619 - val_loss: 0.5630 - val_accuracy: 0.7496\n",
      "Epoch 18/50\n",
      "70/70 [==============================] - 8s 121ms/step - loss: 0.5495 - accuracy: 0.7619 - val_loss: 0.5631 - val_accuracy: 0.7496\n",
      "Epoch 19/50\n",
      "70/70 [==============================] - 8s 121ms/step - loss: 0.5509 - accuracy: 0.7619 - val_loss: 0.5634 - val_accuracy: 0.7496\n",
      "Epoch 20/50\n",
      "70/70 [==============================] - 9s 123ms/step - loss: 0.5503 - accuracy: 0.7619 - val_loss: 0.5630 - val_accuracy: 0.7496\n",
      "Epoch 21/50\n",
      "70/70 [==============================] - 9s 122ms/step - loss: 0.5505 - accuracy: 0.7619 - val_loss: 0.5633 - val_accuracy: 0.7496\n",
      "Epoch 22/50\n",
      "70/70 [==============================] - 8s 121ms/step - loss: 0.5499 - accuracy: 0.7619 - val_loss: 0.5643 - val_accuracy: 0.7496\n",
      "Epoch 23/50\n",
      "70/70 [==============================] - 8s 121ms/step - loss: 0.5510 - accuracy: 0.7619 - val_loss: 0.5631 - val_accuracy: 0.7496\n",
      "Epoch 24/50\n",
      "70/70 [==============================] - 9s 122ms/step - loss: 0.5506 - accuracy: 0.7619 - val_loss: 0.5635 - val_accuracy: 0.7496\n",
      "Epoch 25/50\n",
      "70/70 [==============================] - 9s 122ms/step - loss: 0.5498 - accuracy: 0.7619 - val_loss: 0.5642 - val_accuracy: 0.7496\n",
      "Epoch 26/50\n",
      "70/70 [==============================] - 8s 120ms/step - loss: 0.5501 - accuracy: 0.7619 - val_loss: 0.5652 - val_accuracy: 0.7496\n",
      "Epoch 27/50\n",
      "70/70 [==============================] - 9s 125ms/step - loss: 0.5509 - accuracy: 0.7619 - val_loss: 0.5628 - val_accuracy: 0.7496\n",
      "Epoch 28/50\n",
      "70/70 [==============================] - 9s 127ms/step - loss: 0.5505 - accuracy: 0.7619 - val_loss: 0.5628 - val_accuracy: 0.7496\n",
      "Epoch 29/50\n",
      "70/70 [==============================] - 9s 123ms/step - loss: 0.5500 - accuracy: 0.7619 - val_loss: 0.5650 - val_accuracy: 0.7496\n",
      "Epoch 30/50\n",
      "70/70 [==============================] - 9s 122ms/step - loss: 0.5497 - accuracy: 0.7619 - val_loss: 0.5634 - val_accuracy: 0.7496\n",
      "Epoch 31/50\n",
      "70/70 [==============================] - 9s 123ms/step - loss: 0.5502 - accuracy: 0.7619 - val_loss: 0.5630 - val_accuracy: 0.7496\n",
      "Epoch 32/50\n",
      "70/70 [==============================] - 9s 123ms/step - loss: 0.5506 - accuracy: 0.7619 - val_loss: 0.5658 - val_accuracy: 0.7496\n",
      "Epoch 33/50\n",
      "70/70 [==============================] - 9s 123ms/step - loss: 0.5501 - accuracy: 0.7619 - val_loss: 0.5629 - val_accuracy: 0.7496\n",
      "Epoch 34/50\n",
      "70/70 [==============================] - 9s 126ms/step - loss: 0.5503 - accuracy: 0.7619 - val_loss: 0.5635 - val_accuracy: 0.7496\n",
      "Epoch 35/50\n",
      "70/70 [==============================] - 9s 133ms/step - loss: 0.5496 - accuracy: 0.7619 - val_loss: 0.5636 - val_accuracy: 0.7496\n",
      "Epoch 36/50\n",
      "70/70 [==============================] - 9s 134ms/step - loss: 0.5504 - accuracy: 0.7619 - val_loss: 0.5637 - val_accuracy: 0.7496\n",
      "Epoch 37/50\n",
      "70/70 [==============================] - 9s 127ms/step - loss: 0.5503 - accuracy: 0.7619 - val_loss: 0.5629 - val_accuracy: 0.7496\n",
      "Epoch 38/50\n",
      "70/70 [==============================] - 9s 127ms/step - loss: 0.5487 - accuracy: 0.7619 - val_loss: 0.5661 - val_accuracy: 0.7496\n",
      "Epoch 39/50\n",
      "70/70 [==============================] - 9s 128ms/step - loss: 0.5509 - accuracy: 0.7619 - val_loss: 0.5652 - val_accuracy: 0.7496\n",
      "Epoch 40/50\n",
      "70/70 [==============================] - 9s 127ms/step - loss: 0.5495 - accuracy: 0.7619 - val_loss: 0.5634 - val_accuracy: 0.7496\n",
      "Epoch 41/50\n",
      "70/70 [==============================] - 9s 128ms/step - loss: 0.5506 - accuracy: 0.7619 - val_loss: 0.5628 - val_accuracy: 0.7496\n",
      "Epoch 42/50\n",
      "70/70 [==============================] - 9s 128ms/step - loss: 0.5498 - accuracy: 0.7619 - val_loss: 0.5628 - val_accuracy: 0.7496\n",
      "Epoch 43/50\n",
      "70/70 [==============================] - 9s 134ms/step - loss: 0.5504 - accuracy: 0.7619 - val_loss: 0.5632 - val_accuracy: 0.7496\n",
      "Epoch 44/50\n",
      "70/70 [==============================] - 9s 126ms/step - loss: 0.5497 - accuracy: 0.7619 - val_loss: 0.5630 - val_accuracy: 0.7496\n",
      "Epoch 45/50\n",
      "70/70 [==============================] - 9s 126ms/step - loss: 0.5496 - accuracy: 0.7619 - val_loss: 0.5629 - val_accuracy: 0.7496\n",
      "Epoch 46/50\n",
      "70/70 [==============================] - 9s 127ms/step - loss: 0.5504 - accuracy: 0.7619 - val_loss: 0.5639 - val_accuracy: 0.7496\n",
      "Epoch 47/50\n",
      "70/70 [==============================] - 9s 126ms/step - loss: 0.5508 - accuracy: 0.7619 - val_loss: 0.5644 - val_accuracy: 0.7496\n",
      "Epoch 48/50\n",
      "70/70 [==============================] - 9s 128ms/step - loss: 0.5510 - accuracy: 0.7619 - val_loss: 0.5628 - val_accuracy: 0.7496\n",
      "Epoch 49/50\n",
      "70/70 [==============================] - 9s 126ms/step - loss: 0.5490 - accuracy: 0.7619 - val_loss: 0.5632 - val_accuracy: 0.7496\n",
      "Epoch 50/50\n",
      "70/70 [==============================] - 9s 126ms/step - loss: 0.5507 - accuracy: 0.7619 - val_loss: 0.5629 - val_accuracy: 0.7496\n"
     ]
    }
   ],
   "source": [
    "history = gru_model.fit(X_train, y_train, batch_size=128, epochs=50, verbose=1, validation_split=0.2)"
   ]
  },
  {
   "cell_type": "code",
   "execution_count": 52,
   "id": "4901167e",
   "metadata": {},
   "outputs": [
    {
     "name": "stdout",
     "output_type": "stream",
     "text": [
      "88/88 [==============================] - 2s 22ms/step\n"
     ]
    },
    {
     "data": {
      "text/plain": [
       "0.8562091503267973"
      ]
     },
     "execution_count": 52,
     "metadata": {},
     "output_type": "execute_result"
    }
   ],
   "source": [
    "predictions = (gru_model.predict(X_test) > 0.5).astype(\"int32\")\n",
    "gruf1=f1_score(y_test,predictions)\n",
    "gruf1"
   ]
  },
  {
   "cell_type": "code",
   "execution_count": 58,
   "id": "ac664d0d",
   "metadata": {},
   "outputs": [
    {
     "data": {
      "text/plain": [
       "Text(0.5, 1.0, 'Accuracy')"
      ]
     },
     "execution_count": 58,
     "metadata": {},
     "output_type": "execute_result"
    },
    {
     "data": {
      "image/png": "[encoded data removed]",
      "text/plain": [
       "<Figure size 1080x504 with 1 Axes>"
      ]
     },
     "metadata": {
      "needs_background": "light"
     },
     "output_type": "display_data"
    }
   ],
   "source": [
    "import matplotlib.pyplot as plt\n",
    "plt.figure(figsize=(15, 7))\n",
    "plt.plot(range(50), history.history['accuracy'])\n",
    "plt.plot(range(50), history.history['val_accuracy'])\n",
    "plt.legend(['training_acc', 'validation_acc'])\n",
    "plt.title('Accuracy')"
   ]
  },
  {
   "cell_type": "code",
   "execution_count": 55,
   "id": "8b0e2ceb",
   "metadata": {},
   "outputs": [
    {
     "name": "stdout",
     "output_type": "stream",
     "text": [
      "Model: \"sequential_2\"\n",
      "_________________________________________________________________\n",
      " Layer (type)                Output Shape              Param #   \n",
      "=================================================================\n",
      " embedding_2 (Embedding)     (None, 100, 100)          1817800   \n",
      "                                                                 \n",
      " bidirectional (Bidirectiona  (None, 256)              234496    \n",
      " l)                                                              \n",
      "                                                                 \n",
      " dropout_1 (Dropout)         (None, 256)               0         \n",
      "                                                                 \n",
      " dense_2 (Dense)             (None, 1)                 257       \n",
      "                                                                 \n",
      "=================================================================\n",
      "Total params: 2,052,553\n",
      "Trainable params: 234,753\n",
      "Non-trainable params: 1,817,800\n",
      "_________________________________________________________________\n"
     ]
    }
   ],
   "source": [
    "model2 = Sequential()\n",
    "model2.add(Embedding(vocab_length, 100, weights=[embedding_matrix], input_length=maxlen , trainable=False))\n",
    "model2.add(Bidirectional(LSTM(128,return_sequences = False)))\n",
    "model2.add(Dropout(0.2))\n",
    "model2.add(Dense(1, activation='sigmoid'))\n",
    "model2.compile(loss = 'binary_crossentropy',\n",
    "               optimizer = 'adam',\n",
    "               metrics=['accuracy'])\n",
    "model2.summary()"
   ]
  },
  {
   "cell_type": "code",
   "execution_count": 57,
   "id": "9d7626da",
   "metadata": {},
   "outputs": [
    {
     "name": "stdout",
     "output_type": "stream",
     "text": [
      "Epoch 1/50\n",
      "70/70 [==============================] - 23s 335ms/step - loss: 0.5439 - accuracy: 0.7610 - val_loss: 0.5237 - val_accuracy: 0.7594\n",
      "Epoch 2/50\n",
      "70/70 [==============================] - 26s 370ms/step - loss: 0.4854 - accuracy: 0.7718 - val_loss: 0.4942 - val_accuracy: 0.7728\n",
      "Epoch 3/50\n",
      "70/70 [==============================] - 26s 376ms/step - loss: 0.4557 - accuracy: 0.7919 - val_loss: 0.4845 - val_accuracy: 0.7848\n",
      "Epoch 4/50\n",
      "70/70 [==============================] - 26s 375ms/step - loss: 0.4255 - accuracy: 0.8117 - val_loss: 0.4510 - val_accuracy: 0.7982\n",
      "Epoch 5/50\n",
      "70/70 [==============================] - 26s 374ms/step - loss: 0.3970 - accuracy: 0.8296 - val_loss: 0.4223 - val_accuracy: 0.8232\n",
      "Epoch 6/50\n",
      "70/70 [==============================] - 26s 375ms/step - loss: 0.3786 - accuracy: 0.8379 - val_loss: 0.4261 - val_accuracy: 0.8201\n",
      "Epoch 7/50\n",
      "70/70 [==============================] - 26s 369ms/step - loss: 0.3663 - accuracy: 0.8407 - val_loss: 0.4249 - val_accuracy: 0.8165\n",
      "Epoch 8/50\n",
      "70/70 [==============================] - 26s 369ms/step - loss: 0.3496 - accuracy: 0.8518 - val_loss: 0.4220 - val_accuracy: 0.8179\n",
      "Epoch 9/50\n",
      "70/70 [==============================] - 26s 366ms/step - loss: 0.3338 - accuracy: 0.8607 - val_loss: 0.4342 - val_accuracy: 0.8165\n",
      "Epoch 10/50\n",
      "70/70 [==============================] - 26s 376ms/step - loss: 0.3120 - accuracy: 0.8700 - val_loss: 0.4426 - val_accuracy: 0.8156\n",
      "Epoch 11/50\n",
      "70/70 [==============================] - 28s 395ms/step - loss: 0.2915 - accuracy: 0.8802 - val_loss: 0.4566 - val_accuracy: 0.8165\n",
      "Epoch 12/50\n",
      "70/70 [==============================] - 27s 384ms/step - loss: 0.2699 - accuracy: 0.8858 - val_loss: 0.4926 - val_accuracy: 0.7955\n",
      "Epoch 13/50\n",
      "70/70 [==============================] - 27s 389ms/step - loss: 0.2360 - accuracy: 0.9057 - val_loss: 0.5254 - val_accuracy: 0.8098\n",
      "Epoch 14/50\n",
      "70/70 [==============================] - 26s 375ms/step - loss: 0.2124 - accuracy: 0.9167 - val_loss: 0.5326 - val_accuracy: 0.8071\n",
      "Epoch 15/50\n",
      "70/70 [==============================] - 26s 372ms/step - loss: 0.1800 - accuracy: 0.9285 - val_loss: 0.5843 - val_accuracy: 0.7991\n",
      "Epoch 16/50\n",
      "70/70 [==============================] - 26s 370ms/step - loss: 0.1595 - accuracy: 0.9393 - val_loss: 0.5839 - val_accuracy: 0.7759\n",
      "Epoch 17/50\n",
      "70/70 [==============================] - 26s 369ms/step - loss: 0.1304 - accuracy: 0.9519 - val_loss: 0.7103 - val_accuracy: 0.7603\n",
      "Epoch 18/50\n",
      "70/70 [==============================] - 26s 368ms/step - loss: 0.1163 - accuracy: 0.9560 - val_loss: 0.7043 - val_accuracy: 0.7835\n",
      "Epoch 19/50\n",
      "70/70 [==============================] - 26s 373ms/step - loss: 0.0903 - accuracy: 0.9680 - val_loss: 0.7819 - val_accuracy: 0.7946\n",
      "Epoch 20/50\n",
      "70/70 [==============================] - 26s 373ms/step - loss: 0.0754 - accuracy: 0.9762 - val_loss: 0.8665 - val_accuracy: 0.7804\n",
      "Epoch 21/50\n",
      "70/70 [==============================] - 26s 374ms/step - loss: 0.0751 - accuracy: 0.9757 - val_loss: 0.7556 - val_accuracy: 0.7772\n",
      "Epoch 22/50\n",
      "70/70 [==============================] - 26s 379ms/step - loss: 0.0597 - accuracy: 0.9828 - val_loss: 0.8410 - val_accuracy: 0.7906\n",
      "Epoch 23/50\n",
      "70/70 [==============================] - 25s 362ms/step - loss: 0.0530 - accuracy: 0.9848 - val_loss: 0.9618 - val_accuracy: 0.7768\n",
      "Epoch 24/50\n",
      "70/70 [==============================] - 26s 365ms/step - loss: 0.0368 - accuracy: 0.9897 - val_loss: 0.9975 - val_accuracy: 0.7879\n",
      "Epoch 25/50\n",
      "70/70 [==============================] - 26s 370ms/step - loss: 0.0390 - accuracy: 0.9882 - val_loss: 1.1007 - val_accuracy: 0.7826\n",
      "Epoch 26/50\n",
      "70/70 [==============================] - 26s 375ms/step - loss: 0.0334 - accuracy: 0.9912 - val_loss: 1.0854 - val_accuracy: 0.7799\n",
      "Epoch 27/50\n",
      "70/70 [==============================] - 26s 368ms/step - loss: 0.0434 - accuracy: 0.9871 - val_loss: 1.1455 - val_accuracy: 0.7879\n",
      "Epoch 28/50\n",
      "70/70 [==============================] - 26s 371ms/step - loss: 0.0432 - accuracy: 0.9859 - val_loss: 0.9870 - val_accuracy: 0.7835\n",
      "Epoch 29/50\n",
      "70/70 [==============================] - 26s 374ms/step - loss: 0.0290 - accuracy: 0.9929 - val_loss: 1.0759 - val_accuracy: 0.7790\n",
      "Epoch 30/50\n",
      "70/70 [==============================] - 26s 371ms/step - loss: 0.0189 - accuracy: 0.9967 - val_loss: 1.1740 - val_accuracy: 0.7692\n",
      "Epoch 31/50\n",
      "70/70 [==============================] - 26s 373ms/step - loss: 0.0143 - accuracy: 0.9974 - val_loss: 1.2559 - val_accuracy: 0.7830\n",
      "Epoch 32/50\n",
      "70/70 [==============================] - 26s 377ms/step - loss: 0.0121 - accuracy: 0.9978 - val_loss: 1.3099 - val_accuracy: 0.7741\n",
      "Epoch 33/50\n",
      "70/70 [==============================] - 26s 371ms/step - loss: 0.0115 - accuracy: 0.9979 - val_loss: 1.3391 - val_accuracy: 0.7866\n",
      "Epoch 34/50\n",
      "70/70 [==============================] - 26s 369ms/step - loss: 0.0098 - accuracy: 0.9984 - val_loss: 1.3732 - val_accuracy: 0.7710\n",
      "Epoch 35/50\n",
      "70/70 [==============================] - 26s 371ms/step - loss: 0.0084 - accuracy: 0.9983 - val_loss: 1.4459 - val_accuracy: 0.7688\n",
      "Epoch 36/50\n",
      "70/70 [==============================] - 26s 369ms/step - loss: 0.0080 - accuracy: 0.9984 - val_loss: 1.4744 - val_accuracy: 0.7719\n",
      "Epoch 37/50\n",
      "70/70 [==============================] - 25s 362ms/step - loss: 0.0071 - accuracy: 0.9985 - val_loss: 1.5062 - val_accuracy: 0.7759\n",
      "Epoch 38/50\n",
      "70/70 [==============================] - 25s 363ms/step - loss: 0.0059 - accuracy: 0.9989 - val_loss: 1.5418 - val_accuracy: 0.7808\n",
      "Epoch 39/50\n",
      "70/70 [==============================] - 25s 365ms/step - loss: 0.0054 - accuracy: 0.9985 - val_loss: 1.5752 - val_accuracy: 0.7768\n",
      "Epoch 40/50\n",
      "70/70 [==============================] - 25s 365ms/step - loss: 0.0716 - accuracy: 0.9849 - val_loss: 1.1068 - val_accuracy: 0.7563\n",
      "Epoch 41/50\n",
      "70/70 [==============================] - 26s 368ms/step - loss: 0.1766 - accuracy: 0.9326 - val_loss: 0.7688 - val_accuracy: 0.7888\n",
      "Epoch 42/50\n",
      "70/70 [==============================] - 29s 409ms/step - loss: 0.0428 - accuracy: 0.9887 - val_loss: 0.9439 - val_accuracy: 0.7812\n",
      "Epoch 43/50\n",
      "70/70 [==============================] - 26s 378ms/step - loss: 0.0180 - accuracy: 0.9965 - val_loss: 1.0791 - val_accuracy: 0.7915\n",
      "Epoch 44/50\n",
      "70/70 [==============================] - 26s 370ms/step - loss: 0.0198 - accuracy: 0.9958 - val_loss: 1.0931 - val_accuracy: 0.7746\n",
      "Epoch 45/50\n",
      "70/70 [==============================] - 26s 370ms/step - loss: 0.0136 - accuracy: 0.9975 - val_loss: 1.1167 - val_accuracy: 0.7915\n",
      "Epoch 46/50\n",
      "70/70 [==============================] - 26s 369ms/step - loss: 0.0102 - accuracy: 0.9979 - val_loss: 1.2290 - val_accuracy: 0.7875\n",
      "Epoch 47/50\n",
      "70/70 [==============================] - 27s 386ms/step - loss: 0.0066 - accuracy: 0.9989 - val_loss: 1.2706 - val_accuracy: 0.7737\n",
      "Epoch 48/50\n",
      "70/70 [==============================] - 35s 505ms/step - loss: 0.0058 - accuracy: 0.9989 - val_loss: 1.3283 - val_accuracy: 0.7799\n",
      "Epoch 49/50\n",
      "70/70 [==============================] - 32s 458ms/step - loss: 0.0052 - accuracy: 0.9990 - val_loss: 1.3527 - val_accuracy: 0.7786\n",
      "Epoch 50/50\n",
      "70/70 [==============================] - 31s 449ms/step - loss: 0.0043 - accuracy: 0.9996 - val_loss: 1.4150 - val_accuracy: 0.7763\n"
     ]
    }
   ],
   "source": [
    "bi_lstm = model2.fit(X_train, y_train, batch_size=128, epochs=50, verbose=1, validation_split=0.2)"
   ]
  },
  {
   "cell_type": "code",
   "execution_count": 59,
   "id": "d87e60cc",
   "metadata": {},
   "outputs": [
    {
     "name": "stdout",
     "output_type": "stream",
     "text": [
      "88/88 [==============================] - 6s 49ms/step\n"
     ]
    },
    {
     "data": {
      "text/plain": [
       "0.8654511885529657"
      ]
     },
     "execution_count": 59,
     "metadata": {},
     "output_type": "execute_result"
    }
   ],
   "source": [
    "predictions = (model2.predict(X_test) > 0.5).astype(\"int32\")\n",
    "bilstmf1=f1_score(y_test,predictions)\n",
    "bilstmf1"
   ]
  },
  {
   "cell_type": "code",
   "execution_count": 62,
   "id": "9f97ee8d",
   "metadata": {},
   "outputs": [
    {
     "data": {
      "text/plain": [
       "Text(0.5, 1.0, 'Accuracy')"
      ]
     },
     "execution_count": 62,
     "metadata": {},
     "output_type": "execute_result"
    },
    {
     "data": {
      "image/png": "[encoded data removed]",
      "text/plain": [
       "<Figure size 1080x504 with 1 Axes>"
      ]
     },
     "metadata": {
      "needs_background": "light"
     },
     "output_type": "display_data"
    }
   ],
   "source": [
    "import matplotlib.pyplot as plt\n",
    "plt.figure(figsize=(15, 7))\n",
    "plt.plot(range(50), bi_lstm.history['accuracy'])\n",
    "plt.plot(range(50), bi_lstm.history['val_accuracy'])\n",
    "plt.legend(['training_acc', 'validation_acc'])\n",
    "plt.title('Accuracy')"
   ]
  },
  {
   "cell_type": "markdown",
   "id": "3cf7f2bb",
   "metadata": {},
   "source": [
    "# Results"
   ]
  },
  {
   "cell_type": "code",
   "execution_count": 64,
   "id": "9ac4bbe0",
   "metadata": {},
   "outputs": [
    {
     "data": {
      "image/png": "[encoded data removed]",
      "text/plain": [
       "<Figure size 720x360 with 1 Axes>"
      ]
     },
     "metadata": {
      "needs_background": "light"
     },
     "output_type": "display_data"
    }
   ],
   "source": [
    "import matplotlib.pyplot as plt\n",
    " \n",
    "data = {'Logistic Regression':f1_score_data['F1 Score'][0]*100, 'KNN':f1_score_data['F1 Score'][1]* 100,\n",
    "       'BNB':f1_score_data['F1 Score'][2]* 100,'Naïve Bayes':f1_score_data['F1 Score'][3]* 100,\n",
    "       'SVM':f1_score_data['F1 Score'][4]* 100,'RANDOM FOREST':f1_score_data['F1 Score'][5]* 100,\n",
    "       'LSTM':lstmf1* 100,'GRU':gruf1* 100, 'Bi-Lstm':bilstmf1* 100}\n",
    "courses = list(data.keys())\n",
    "values = list(data.values())\n",
    "\n",
    "fig = plt.figure(figsize = (10, 5))\n",
    " \n",
    "# creating the bar plot\n",
    "plt.bar(courses, values, color ='pink',\n",
    "        width = 0.4)\n",
    " \n",
    "plt.xlabel(\"F1_Score\")\n",
    "plt.ylabel(\"Models\")\n",
    "plt.title(\"Train Results\")\n",
    "plt.show()"
   ]
  },
  {
   "cell_type": "code",
   "execution_count": null,
   "id": "c81ddcd5",
   "metadata": {},
   "outputs": [],
   "source": []
  }
 ],
 "metadata": {
  "kernelspec": {
   "display_name": "Python 3 (ipykernel)",
   "language": "python",
   "name": "python3"
  },
  "language_info": {
   "codemirror_mode": {
    "name": "ipython",
    "version": 3
   },
   "file_extension": ".py",
   "mimetype": "text/x-python",
   "name": "python",
   "nbconvert_exporter": "python",
   "pygments_lexer": "ipython3",
   "version": "3.9.12"
  }
 },
 "nbformat": 4,
 "nbformat_minor": 5
}
